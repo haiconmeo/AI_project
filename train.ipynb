{
  "nbformat": 4,
  "nbformat_minor": 0,
  "metadata": {
    "colab": {
      "name": "train.ipynb",
      "provenance": [],
      "include_colab_link": true
    },
    "kernelspec": {
      "name": "python3",
      "display_name": "Python 3"
    }
  },
  "cells": [
    {
      "cell_type": "markdown",
      "metadata": {
        "id": "view-in-github",
        "colab_type": "text"
      },
      "source": [
        "<a href=\"https://colab.research.google.com/github/hoanghuumanh/AI_project/blob/master/train.ipynb\" target=\"_parent\"><img src=\"https://colab.research.google.com/assets/colab-badge.svg\" alt=\"Open In Colab\"/></a>"
      ]
    },
    {
      "cell_type": "code",
      "metadata": {
        "id": "wxZQEzV5996S",
        "colab_type": "code",
        "colab": {}
      },
      "source": [
        ""
      ],
      "execution_count": 0,
      "outputs": []
    },
    {
      "cell_type": "code",
      "metadata": {
        "id": "KxPgJJBc-Bmx",
        "colab_type": "code",
        "outputId": "8532b54f-92f6-4efc-efc1-590442dfcfa7",
        "colab": {
          "base_uri": "https://localhost:8080/",
          "height": 122
        }
      },
      "source": [
        "from google.colab import drive\n",
        "drive.mount('/content/drive')"
      ],
      "execution_count": 0,
      "outputs": [
        {
          "output_type": "stream",
          "text": [
            "Go to this URL in a browser: https://accounts.google.com/o/oauth2/auth?client_id=947318989803-6bn6qk8qdgf4n4g3pfee6491hc0brc4i.apps.googleusercontent.com&redirect_uri=urn%3Aietf%3Awg%3Aoauth%3A2.0%3Aoob&scope=email%20https%3A%2F%2Fwww.googleapis.com%2Fauth%2Fdocs.test%20https%3A%2F%2Fwww.googleapis.com%2Fauth%2Fdrive%20https%3A%2F%2Fwww.googleapis.com%2Fauth%2Fdrive.photos.readonly%20https%3A%2F%2Fwww.googleapis.com%2Fauth%2Fpeopleapi.readonly&response_type=code\n",
            "\n",
            "Enter your authorization code:\n",
            "··········\n",
            "Mounted at /content/drive\n"
          ],
          "name": "stdout"
        }
      ]
    },
    {
      "cell_type": "code",
      "metadata": {
        "id": "0dxAYEFw9-la",
        "colab_type": "code",
        "outputId": "b133fde1-7f8e-487b-b9b7-d9f43f4b92b4",
        "colab": {
          "base_uri": "https://localhost:8080/",
          "height": 442
        }
      },
      "source": [
        "!unzip \"/content/drive/My Drive/train movielen10k/ml-100k.zip\" -d \"/content/drive/My Drive/train movielen10k\"\n",
        "\n"
      ],
      "execution_count": 0,
      "outputs": [
        {
          "output_type": "stream",
          "text": [
            "Archive:  /content/drive/My Drive/train movielen10k/ml-100k.zip\n",
            "   creating: /content/drive/My Drive/train movielen10k/ml-100k/\n",
            "  inflating: /content/drive/My Drive/train movielen10k/ml-100k/allbut.pl  \n",
            "  inflating: /content/drive/My Drive/train movielen10k/ml-100k/mku.sh  \n",
            "  inflating: /content/drive/My Drive/train movielen10k/ml-100k/README  \n",
            "  inflating: /content/drive/My Drive/train movielen10k/ml-100k/u.data  \n",
            "  inflating: /content/drive/My Drive/train movielen10k/ml-100k/u.genre  \n",
            "  inflating: /content/drive/My Drive/train movielen10k/ml-100k/u.info  \n",
            "  inflating: /content/drive/My Drive/train movielen10k/ml-100k/u.item  \n",
            "  inflating: /content/drive/My Drive/train movielen10k/ml-100k/u.occupation  \n",
            "  inflating: /content/drive/My Drive/train movielen10k/ml-100k/u.user  \n",
            "  inflating: /content/drive/My Drive/train movielen10k/ml-100k/u1.base  \n",
            "  inflating: /content/drive/My Drive/train movielen10k/ml-100k/u1.test  \n",
            "  inflating: /content/drive/My Drive/train movielen10k/ml-100k/u2.base  \n",
            "  inflating: /content/drive/My Drive/train movielen10k/ml-100k/u2.test  \n",
            "  inflating: /content/drive/My Drive/train movielen10k/ml-100k/u3.base  \n",
            "  inflating: /content/drive/My Drive/train movielen10k/ml-100k/u3.test  \n",
            "  inflating: /content/drive/My Drive/train movielen10k/ml-100k/u4.base  \n",
            "  inflating: /content/drive/My Drive/train movielen10k/ml-100k/u4.test  \n",
            "  inflating: /content/drive/My Drive/train movielen10k/ml-100k/u5.base  \n",
            "  inflating: /content/drive/My Drive/train movielen10k/ml-100k/u5.test  \n",
            "  inflating: /content/drive/My Drive/train movielen10k/ml-100k/ua.base  \n",
            "  inflating: /content/drive/My Drive/train movielen10k/ml-100k/ua.test  \n",
            "  inflating: /content/drive/My Drive/train movielen10k/ml-100k/ub.base  \n",
            "  inflating: /content/drive/My Drive/train movielen10k/ml-100k/ub.test  \n"
          ],
          "name": "stdout"
        }
      ]
    },
    {
      "cell_type": "code",
      "metadata": {
        "id": "wjl-7GndATfN",
        "colab_type": "code",
        "outputId": "80a1ab98-928e-470b-c74c-e5e322ebe23d",
        "colab": {
          "base_uri": "https://localhost:8080/",
          "height": 34
        }
      },
      "source": [
        "import pandas as pd\n",
        "user_cols=['user_id', 'age', 'sex', 'occupation', 'zip_code']\n",
        "users = pd.read_csv('/content/drive/My Drive/train movielen10k/ml-100k/u.user',sep=\"|\",names=user_cols,encoding='latin-1',engine='python')\n",
        "n_users =users.shape[0]\n",
        "print ('Number of users:', n_users)"
      ],
      "execution_count": 0,
      "outputs": [
        {
          "output_type": "stream",
          "text": [
            "Number of users: 943\n"
          ],
          "name": "stdout"
        }
      ]
    },
    {
      "cell_type": "markdown",
      "metadata": {
        "id": "3kL-AcAvCNIr",
        "colab_type": "text"
      },
      "source": [
        "đầu tiên , nạp các trường của user vào trong file , dùng cb thì chắc cũng chưa cần lắm :v\n",
        "\n"
      ]
    },
    {
      "cell_type": "code",
      "metadata": {
        "id": "p-rT4xMICYSA",
        "colab_type": "code",
        "outputId": "27de811b-e309-424f-c378-713bc7a7b896",
        "colab": {
          "base_uri": "https://localhost:8080/",
          "height": 122
        }
      },
      "source": [
        "rate_cols=['user_id', 'movie_id', 'rating', 'unix_timestamp']\n",
        "ratings_base = pd.read_csv('ml-100k/ua.base', sep='\\t', names=rate_cols, encoding='latin-1')\n",
        "ratings_test = pd.read_csv('ml-100k/ua.test', sep='\\t', names=rate_cols, encoding='latin-1')\n",
        "rate_train = ratings_base.as_matrix()\n",
        "rate_test = ratings_test.as_matrix()\n",
        "print (rate_train.shape)\n"
      ],
      "execution_count": 0,
      "outputs": [
        {
          "output_type": "stream",
          "text": [
            "(90570, 4)\n"
          ],
          "name": "stdout"
        },
        {
          "output_type": "stream",
          "text": [
            "/usr/local/lib/python3.6/dist-packages/ipykernel_launcher.py:4: FutureWarning: Method .as_matrix will be removed in a future version. Use .values instead.\n",
            "  after removing the cwd from sys.path.\n",
            "/usr/local/lib/python3.6/dist-packages/ipykernel_launcher.py:5: FutureWarning: Method .as_matrix will be removed in a future version. Use .values instead.\n",
            "  \"\"\"\n"
          ],
          "name": "stderr"
        }
      ]
    },
    {
      "cell_type": "code",
      "metadata": {
        "id": "YmCNJwy0DzB2",
        "colab_type": "code",
        "colab": {}
      },
      "source": [
        "i_cols = ['movie id', 'movie title' ,'release date','video release date', 'IMDb URL', 'unknown', 'Action', 'Adventure',\n",
        " 'Animation', 'Children\\'s', 'Comedy', 'Crime', 'Documentary', 'Drama', 'Fantasy',\n",
        " 'Film-Noir', 'Horror', 'Musical', 'Mystery', 'Romance', 'Sci-Fi', 'Thriller', 'War', 'Western']\n",
        "items = pd.read_csv('ml-100k/u.item', sep='|', names=i_cols,\n",
        " encoding='latin-1')"
      ],
      "execution_count": 0,
      "outputs": []
    },
    {
      "cell_type": "code",
      "metadata": {
        "id": "e-MXm3JnD9ju",
        "colab_type": "code",
        "outputId": "f2d56895-1e54-424a-e0c4-d304822cf69c",
        "colab": {
          "base_uri": "https://localhost:8080/",
          "height": 71
        }
      },
      "source": [
        "\n",
        "X0 = items.as_matrix()\n",
        "X_train_counts = X0[:, -19:]"
      ],
      "execution_count": 0,
      "outputs": [
        {
          "output_type": "stream",
          "text": [
            "/usr/local/lib/python3.6/dist-packages/ipykernel_launcher.py:2: FutureWarning: Method .as_matrix will be removed in a future version. Use .values instead.\n",
            "  \n"
          ],
          "name": "stderr"
        }
      ]
    },
    {
      "cell_type": "code",
      "metadata": {
        "id": "p3IBsR6pD_xf",
        "colab_type": "code",
        "outputId": "841c5f88-5e4a-4690-e0a2-196155c19efe",
        "colab": {
          "base_uri": "https://localhost:8080/",
          "height": 34
        }
      },
      "source": [
        "print (X_train_counts.shape)"
      ],
      "execution_count": 0,
      "outputs": [
        {
          "output_type": "stream",
          "text": [
            "(1682, 19)\n"
          ],
          "name": "stdout"
        }
      ]
    },
    {
      "cell_type": "code",
      "metadata": {
        "id": "Gye3Qn_1Ef0N",
        "colab_type": "code",
        "colab": {}
      },
      "source": [
        "from sklearn.feature_extraction.text import TfidfTransformer\n",
        "transformer = TfidfTransformer(smooth_idf=True, norm ='l2')\n",
        "tfidf = transformer.fit_transform(X_train_counts.tolist()).toarray()"
      ],
      "execution_count": 0,
      "outputs": []
    },
    {
      "cell_type": "code",
      "metadata": {
        "id": "PPJuytoyErCA",
        "colab_type": "code",
        "outputId": "044db949-cc52-434a-ff25-c5956a325b9f",
        "colab": {
          "base_uri": "https://localhost:8080/",
          "height": 34
        }
      },
      "source": [
        "print (tfidf.shape)"
      ],
      "execution_count": 0,
      "outputs": [
        {
          "output_type": "stream",
          "text": [
            "(1682, 19)\n"
          ],
          "name": "stdout"
        }
      ]
    },
    {
      "cell_type": "code",
      "metadata": {
        "id": "qVTM_yDcFHw9",
        "colab_type": "code",
        "colab": {}
      },
      "source": [
        "import numpy as np\n",
        "def get_items_rated_by_user(rate_matrix, user_id):\n",
        "    \"\"\"\n",
        "    return (item_ids, scores)\n",
        "    \"\"\"\n",
        "    y = rate_matrix[:,0] \n",
        "   \n",
        "    ids = np.where(y == user_id +1)[0] \n",
        "    item_ids = rate_matrix[ids, 1] - 1 \n",
        "    scores = rate_matrix[ids, 2]\n",
        "    return (item_ids, scores)"
      ],
      "execution_count": 0,
      "outputs": []
    },
    {
      "cell_type": "code",
      "metadata": {
        "id": "R71jbjZ-FUPv",
        "colab_type": "code",
        "colab": {}
      },
      "source": [
        "from sklearn.linear_model import Ridge\n",
        "from sklearn import linear_model\n",
        "\n",
        "d = tfidf.shape[1] \n",
        "W = np.zeros((d, n_users))\n",
        "b = np.zeros((1, n_users))\n",
        "\n",
        "for n in range(n_users):    \n",
        "    ids, scores = get_items_rated_by_user(rate_train, n)\n",
        "    clf = Ridge(alpha=0.01, fit_intercept  = True)\n",
        "    Xhat = tfidf[ids, :]\n",
        "    \n",
        "    clf.fit(Xhat, scores) \n",
        "    W[:, n] = clf.coef_\n",
        "    b[0, n] = clf.intercept_"
      ],
      "execution_count": 0,
      "outputs": []
    },
    {
      "cell_type": "code",
      "metadata": {
        "id": "DG6PcCwmGPIK",
        "colab_type": "code",
        "colab": {}
      },
      "source": [
        "Yhat = tfidf.dot(W) + b"
      ],
      "execution_count": 0,
      "outputs": []
    },
    {
      "cell_type": "code",
      "metadata": {
        "id": "-9ew5EgVGWFm",
        "colab_type": "code",
        "outputId": "63f4113e-e3ee-4775-8184-5bc4e0608dbb",
        "colab": {
          "base_uri": "https://localhost:8080/",
          "height": 51
        }
      },
      "source": [
        "from math import sqrt\n",
        "def evaluate(Yhat, rates, W, b):\n",
        "    se = 0\n",
        "    cnt = 0\n",
        "    for n in range(n_users):\n",
        "        ids, scores_truth = get_items_rated_by_user(rates, n)\n",
        "        scores_pred = Yhat[ids, n]\n",
        "        e = scores_truth - scores_pred \n",
        "        se += (e*e).sum(axis = 0)\n",
        "        cnt += e.size \n",
        "    return sqrt(se/cnt)\n",
        "\n",
        "print ('RMSE for training:', evaluate(Yhat, rate_train, W, b))\n",
        "print ('RMSE for test    :', evaluate(Yhat, rate_test, W, b))"
      ],
      "execution_count": 0,
      "outputs": [
        {
          "output_type": "stream",
          "text": [
            "RMSE for training: 0.908980456282672\n",
            "RMSE for test    : 1.2703282700393037\n"
          ],
          "name": "stdout"
        }
      ]
    }
  ]
}